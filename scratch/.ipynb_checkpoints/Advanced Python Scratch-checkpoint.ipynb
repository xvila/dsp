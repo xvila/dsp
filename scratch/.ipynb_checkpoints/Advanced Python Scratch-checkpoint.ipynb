{
 "cells": [
  {
   "cell_type": "code",
   "execution_count": 1,
   "metadata": {
    "collapsed": true
   },
   "outputs": [],
   "source": [
    "import re\n",
    "import csv\n",
    "from collections import defaultdict"
   ]
  },
  {
   "cell_type": "markdown",
   "metadata": {},
   "source": [
    "## Question 1"
   ]
  },
  {
   "cell_type": "code",
   "execution_count": 63,
   "metadata": {
    "collapsed": true
   },
   "outputs": [],
   "source": [
    "# return a dictionary with standardized degrees and the count of their occurances is their value.\n",
    "# use regular expressions\n",
    "# Remember Default Dict\n",
    "# Create a list first of all degrees\n",
    "# loop throught he list \n",
    "\n",
    "def count_degrees(csv_file_name):\n",
    "    phd_re = r'(Ph\\.?D\\.?)'\n",
    "    scd_re = r'(Sc\\.?D\\.?)'\n",
    "    md_re = r'(M\\.?D\\.?)'\n",
    "    mph_re = r'(MPH)'\n",
    "    ma_re = r'(MA)'\n",
    "    bsed_re = r'(B\\.?S.?Ed\\.?)'\n",
    "    no_re = r'(0)'\n",
    "    ms_re = r'(M\\.?S\\.?)'\n",
    "    jd_re = r'(J\\.?D\\.?)'\n",
    "\n",
    "    csvreader = csv.reader(open(csv_file_name,newline=''))\n",
    "    header = next(csvreader)\n",
    "    degrees = [row[1] for row in csvreader]\n",
    "    \n",
    "    degree_dict = {'MD':0, 'MA':0, 'SCD':0, 'BSED':0, 'PHD':0,\n",
    "               '0':0, 'MPH':0, 'MS':0, 'JD':0}\n",
    "    \n",
    "    for degree in degrees:\n",
    "        if re.findall(phd_re,degree):\n",
    "            degree_dict['PHD'] += 1\n",
    "        if re.findall(scd_re,degree):\n",
    "            degree_dict['SCD'] += 1\n",
    "        if re.findall(md_re,degree):\n",
    "            degree_dict['MD'] += 1\n",
    "        if re.findall(ma_re,degree):\n",
    "            degree_dict['MA'] += 1\n",
    "        if re.findall(mph_re,degree):\n",
    "            degree_dict['MPH'] += 1\n",
    "        if re.findall(bsed_re,degree):\n",
    "            degree_dict['BSED'] += 1\n",
    "        if re.findall(no_re,degree):\n",
    "            degree_dict['0'] += 1\n",
    "        if re.findall(ms_re,degree):\n",
    "            degree_dict['MS'] += 1\n",
    "        if re.findall(jd_re,degree):\n",
    "            degree_dict['JD'] += 1\n",
    "\n",
    "    return degree_dict"
   ]
  },
  {
   "cell_type": "code",
   "execution_count": 2,
   "metadata": {
    "collapsed": true
   },
   "outputs": [],
   "source": [
    "test_file = \"faculty.csv\"\n",
    "#degree_test = count_degrees(test_file)"
   ]
  },
  {
   "cell_type": "code",
   "execution_count": 56,
   "metadata": {
    "collapsed": true
   },
   "outputs": [],
   "source": [
    "phd_re = r'(Ph\\.?D\\.?)'\n",
    "scd_re = r'(Sc\\.?D\\.?)'\n",
    "md_re = r'(M\\.?D\\.?)'\n",
    "mph_re = r'(MPH)'\n",
    "ma_re = r'(MA)'\n",
    "bsed_re = r'(B\\.?S.?Ed\\.?)'\n",
    "no_re = r'(0)'\n",
    "ms_re = r'(M\\.?S\\.?)'\n",
    "jd_re = r'(J\\.?D\\.?)'\n",
    "\n",
    "degree_dict = {'MD':0, 'MA':0, 'SCD':0, 'BSED':0, 'PHD':0,\n",
    "               '0':0, 'MPH':0, 'MS':0, 'JD':0}\n",
    "for degree in degree_test:\n",
    "    if re.findall(phd_re,degree):\n",
    "        degree_dict['PHD'] += 1\n",
    "    if re.findall(scd_re,degree):\n",
    "        degree_dict['SCD'] += 1\n",
    "    if re.findall(md_re,degree):\n",
    "        degree_dict['MD'] += 1\n",
    "    if re.findall(ma_re,degree):\n",
    "        degree_dict['MA'] += 1\n",
    "    if re.findall(mph_re,degree):\n",
    "        degree_dict['MPH'] += 1\n",
    "    if re.findall(bsed_re,degree):\n",
    "        degree_dict['BSED'] += 1\n",
    "    if re.findall(no_re,degree):\n",
    "        degree_dict['0'] += 1\n",
    "    if re.findall(ms_re,degree):\n",
    "        degree_dict['MS'] += 1\n",
    "    if re.findall(jd_re,degree):\n",
    "        degree_dict['JD'] += 1\n",
    "    "
   ]
  },
  {
   "cell_type": "code",
   "execution_count": 57,
   "metadata": {},
   "outputs": [
    {
     "data": {
      "text/plain": [
       "0"
      ]
     },
     "execution_count": 57,
     "metadata": {},
     "output_type": "execute_result"
    }
   ],
   "source": [
    "len(phd_list)"
   ]
  },
  {
   "cell_type": "code",
   "execution_count": 65,
   "metadata": {},
   "outputs": [
    {
     "data": {
      "text/plain": [
       "{'0': 1,\n",
       " 'BSED': 1,\n",
       " 'JD': 1,\n",
       " 'MA': 1,\n",
       " 'MD': 1,\n",
       " 'MPH': 2,\n",
       " 'MS': 2,\n",
       " 'PHD': 31,\n",
       " 'SCD': 6}"
      ]
     },
     "execution_count": 65,
     "metadata": {},
     "output_type": "execute_result"
    }
   ],
   "source": [
    "degree_test"
   ]
  },
  {
   "cell_type": "markdown",
   "metadata": {},
   "source": [
    "## Question 2"
   ]
  },
  {
   "cell_type": "code",
   "execution_count": 8,
   "metadata": {
    "collapsed": true
   },
   "outputs": [],
   "source": [
    "# Return a dictionary where the keys are standardized titles and values are their frequencies\n",
    "def count_titles(csv_file_name):\n",
    "    csvreader = csv.reader(open(csv_file_name,newline=''))\n",
    "    header = next(csvreader)\n",
    "    titles = [row[2] for row in csvreader]\n",
    "    \n",
    "    title_dict = {'professor':0, 'associate':0, 'assistant':0}\n",
    "    \n",
    "    for title in titles:\n",
    "        if 'Associate' in title:\n",
    "            title_dict['associate'] += 1\n",
    "        elif 'Assistant' in title:\n",
    "            title_dict['assistant'] += 1\n",
    "        else:\n",
    "            title_dict['professor'] += 1\n",
    "            \n",
    "    return title_dict"
   ]
  },
  {
   "cell_type": "code",
   "execution_count": 9,
   "metadata": {
    "collapsed": true
   },
   "outputs": [],
   "source": [
    "title_test = count_titles(test_file)"
   ]
  },
  {
   "cell_type": "code",
   "execution_count": 10,
   "metadata": {},
   "outputs": [
    {
     "data": {
      "text/plain": [
       "{'assistant': 12, 'associate': 12, 'professor': 13}"
      ]
     },
     "execution_count": 10,
     "metadata": {},
     "output_type": "execute_result"
    }
   ],
   "source": [
    "title_test"
   ]
  },
  {
   "cell_type": "markdown",
   "metadata": {},
   "source": [
    "## Question 3"
   ]
  },
  {
   "cell_type": "code",
   "execution_count": 3,
   "metadata": {
    "collapsed": true
   },
   "outputs": [],
   "source": [
    "# Read a csv file and return a list of emails from the file\n",
    "def emails(csv_file_name):\n",
    "    csvreader = csv.reader(open(csv_file_name,newline=''))\n",
    "    header = next(csvreader)\n",
    "    emails = [row[3] for row in csvreader]\n",
    "    \n",
    "    return emails"
   ]
  },
  {
   "cell_type": "code",
   "execution_count": 4,
   "metadata": {
    "collapsed": true
   },
   "outputs": [],
   "source": [
    "email_list = emails(test_file)"
   ]
  },
  {
   "cell_type": "markdown",
   "metadata": {},
   "source": [
    "## Question 4"
   ]
  },
  {
   "cell_type": "code",
   "execution_count": 122,
   "metadata": {
    "collapsed": true
   },
   "outputs": [],
   "source": [
    "# Given a list of emails return the unique domains\n",
    "def unique_domains(emails):\n",
    "    domains = []\n",
    "    email_re = r'@(\\w.+)'\n",
    "    \n",
    "    for email in emails:\n",
    "        domain = re.search(\"@([\\w.]+)\", email)\n",
    "        domains.append(domain.group())\n",
    "    \n",
    "    domains = set(domains)\n",
    "    clean_domains = {domain.replace('@', '') for domain in domains}\n",
    "\n",
    "    return clean_domains\n",
    "    "
   ]
  },
  {
   "cell_type": "code",
   "execution_count": 125,
   "metadata": {
    "collapsed": true
   },
   "outputs": [],
   "source": [
    "unique_emails = (unique_domains(email_list))"
   ]
  },
  {
   "cell_type": "code",
   "execution_count": 126,
   "metadata": {},
   "outputs": [
    {
     "data": {
      "text/plain": [
       "{'cceb.med.upenn.edu', 'email.chop.edu', 'mail.med.upenn.edu', 'upenn.edu'}"
      ]
     },
     "execution_count": 126,
     "metadata": {},
     "output_type": "execute_result"
    }
   ],
   "source": [
    "unique_emails"
   ]
  },
  {
   "cell_type": "markdown",
   "metadata": {},
   "source": [
    "## Question 5"
   ]
  },
  {
   "cell_type": "code",
   "execution_count": 5,
   "metadata": {
    "collapsed": true
   },
   "outputs": [],
   "source": [
    "# given a list of emails, write the emails to a file called \"emails.csv\"\n",
    "# add header of your choosing\n",
    "def write_to_csv(list_of_emails):\n",
    "    rows = zip(list_of_emails)\n",
    "    with open('emails.csv','w',newline='') as email_file:\n",
    "        writer = csv.writer(email_file, dialect='excel',)\n",
    "        writer.writerow(['Email_Address'])\n",
    "        for row in rows:\n",
    "            writer.writerow(row)"
   ]
  },
  {
   "cell_type": "code",
   "execution_count": 6,
   "metadata": {
    "collapsed": true
   },
   "outputs": [],
   "source": [
    "write_to_csv(email_list)"
   ]
  },
  {
   "cell_type": "code",
   "execution_count": 177,
   "metadata": {
    "collapsed": true
   },
   "outputs": [],
   "source": [
    "with open('emails.csv', 'r') as f:\n",
    "    header = f.readline()\n",
    "    emails2 = []\n",
    "    for line in f.readlines():\n",
    "        emails2.append(line.strip())"
   ]
  },
  {
   "cell_type": "code",
   "execution_count": 178,
   "metadata": {},
   "outputs": [
    {
     "data": {
      "text/plain": [
       "'email_address\\n'"
      ]
     },
     "execution_count": 178,
     "metadata": {},
     "output_type": "execute_result"
    }
   ],
   "source": [
    "header"
   ]
  },
  {
   "cell_type": "code",
   "execution_count": 179,
   "metadata": {},
   "outputs": [
    {
     "data": {
      "text/plain": [
       "['email_address',\n",
       " 'bellamys@mail.med.upenn.edu',\n",
       " 'warren@upenn.edu',\n",
       " 'bryanma@upenn.edu',\n",
       " 'jinboche@upenn.edu',\n",
       " 'sellenbe@upenn.edu',\n",
       " 'jellenbe@mail.med.upenn.edu',\n",
       " 'ruifeng@upenn.edu',\n",
       " 'bcfrench@mail.med.upenn.edu',\n",
       " 'pgimotty@upenn.edu',\n",
       " 'wguo@mail.med.upenn.edu',\n",
       " 'hsu9@mail.med.upenn.edu',\n",
       " 'rhubb@mail.med.upenn.edu',\n",
       " 'whwang@mail.med.upenn.edu',\n",
       " 'mjoffe@mail.med.upenn.edu',\n",
       " 'jrlandis@mail.med.upenn.edu',\n",
       " 'liy3@email.chop.edu',\n",
       " 'mingyao@mail.med.upenn.edu',\n",
       " 'hongzhe@upenn.edu',\n",
       " 'rlocalio@upenn.edu',\n",
       " 'nanditam@mail.med.upenn.edu',\n",
       " 'knashawn@mail.med.upenn.edu',\n",
       " 'propert@mail.med.upenn.edu',\n",
       " 'mputt@mail.med.upenn.edu',\n",
       " 'sratclif@upenn.edu',\n",
       " 'michross@upenn.edu',\n",
       " 'jaroy@mail.med.upenn.edu',\n",
       " 'msammel@cceb.med.upenn.edu',\n",
       " 'shawp@upenn.edu',\n",
       " 'rshi@mail.med.upenn.edu',\n",
       " 'hshou@mail.med.upenn.edu',\n",
       " 'jshults@mail.med.upenn.edu',\n",
       " 'alisaste@mail.med.upenn.edu',\n",
       " 'atroxel@mail.med.upenn.edu',\n",
       " 'rxiao@mail.med.upenn.edu',\n",
       " 'sxie@mail.med.upenn.edu',\n",
       " 'dxie@upenn.edu',\n",
       " '\"weiyang@mail.med.upenn.edu\"\"\"\"\"\"\"']"
      ]
     },
     "execution_count": 179,
     "metadata": {},
     "output_type": "execute_result"
    }
   ],
   "source": [
    "emails2"
   ]
  },
  {
   "cell_type": "markdown",
   "metadata": {
    "collapsed": true
   },
   "source": [
    "## Question 6"
   ]
  },
  {
   "cell_type": "code",
   "execution_count": 42,
   "metadata": {},
   "outputs": [],
   "source": [
    "# write a function that reads the faculty csv and returns a dictionary where keys are \n",
    "# last names and values are corresponding rows\n",
    "# dictionary with list of lists\n",
    "def get_dict():\n",
    "    result_dict = defaultdict(list) #dictionary with default value of list\n",
    "    csvReader = csv.reader(open('faculty.csv','r'))\n",
    "    header = next(csvReader)\n",
    "    for row in csvReader:\n",
    "        key = row[0].split()[-1] # split the names on space and return the last value (last name)\n",
    "        if key in result_dict:\n",
    "            result_dict.setdefault(key, []).append(row[1:]) #append list to key list in dictionary\n",
    "        else:    \n",
    "            result_dict[key] = [row[1:]]\n",
    "    return result_dict"
   ]
  },
  {
   "cell_type": "code",
   "execution_count": 43,
   "metadata": {},
   "outputs": [],
   "source": [
    "result = get_dict()"
   ]
  },
  {
   "cell_type": "code",
   "execution_count": 44,
   "metadata": {},
   "outputs": [
    {
     "data": {
      "text/plain": [
       "defaultdict(list,\n",
       "            {'Bellamy': [[' Sc.D.',\n",
       "               'Associate Professor of Biostatistics',\n",
       "               'bellamys@mail.med.upenn.edu']],\n",
       "             'Bilker': [['Ph.D.',\n",
       "               'Professor of Biostatistics',\n",
       "               'warren@upenn.edu']],\n",
       "             'Bryan': [[' PhD',\n",
       "               'Assistant Professor of Biostatistics',\n",
       "               'bryanma@upenn.edu']],\n",
       "             'Chen': [[' Ph.D.',\n",
       "               'Associate Professor of Biostatistics',\n",
       "               'jinboche@upenn.edu']],\n",
       "             'Ellenberg': [[' Ph.D.',\n",
       "               'Professor of Biostatistics',\n",
       "               'sellenbe@upenn.edu'],\n",
       "              [' Ph.D.',\n",
       "               'Professor of Biostatistics',\n",
       "               'jellenbe@mail.med.upenn.edu']],\n",
       "             'Feng': [[' Ph.D',\n",
       "               'Assistant Professor of Biostatistics',\n",
       "               'ruifeng@upenn.edu']],\n",
       "             'French': [[' PhD',\n",
       "               'Associate Professor of Biostatistics',\n",
       "               'bcfrench@mail.med.upenn.edu']],\n",
       "             'Gimotty': [[' Ph.D',\n",
       "               'Professor of Biostatistics',\n",
       "               'pgimotty@upenn.edu']],\n",
       "             'Guo': [[' Ph.D',\n",
       "               'Professor of Biostatistics',\n",
       "               'wguo@mail.med.upenn.edu']],\n",
       "             'Hsu': [[' Ph.D.',\n",
       "               'Assistant Professor of Biostatistics',\n",
       "               'hsu9@mail.med.upenn.edu']],\n",
       "             'Hubbard': [[' PhD',\n",
       "               'Associate Professor of Biostatistics',\n",
       "               'rhubb@mail.med.upenn.edu']],\n",
       "             'Hwang': [[' Ph.D.',\n",
       "               'Associate Professor of Biostatistics',\n",
       "               'whwang@mail.med.upenn.edu']],\n",
       "             'Joffe': [[' MD MPH Ph.D',\n",
       "               'Professor of Biostatistics',\n",
       "               'mjoffe@mail.med.upenn.edu']],\n",
       "             'Landis': [[' B.S.Ed. M.S. Ph.D.',\n",
       "               'Professor of Biostatistics',\n",
       "               'jrlandis@mail.med.upenn.edu']],\n",
       "             'Li': [[' Ph.D.',\n",
       "               'Assistant Professor of Biostatistics',\n",
       "               'liy3@email.chop.edu'],\n",
       "              [' Ph.D.',\n",
       "               'Associate Professor of Biostatistics',\n",
       "               'mingyao@mail.med.upenn.edu'],\n",
       "              [' Ph.D', 'Professor of Biostatistics', 'hongzhe@upenn.edu']],\n",
       "             'Localio': [[' JD MA MPH MS PhD',\n",
       "               'Associate Professor of Biostatistics',\n",
       "               'rlocalio@upenn.edu']],\n",
       "             'Mitra': [[' Ph.D.',\n",
       "               'Associate Professor of Biostatistics',\n",
       "               'nanditam@mail.med.upenn.edu']],\n",
       "             'Morales': [[' Sc.D.',\n",
       "               'Associate Professor of Biostatistics',\n",
       "               'knashawn@mail.med.upenn.edu']],\n",
       "             'Propert': [[' Sc.D.',\n",
       "               'Professor of Biostatistics',\n",
       "               'propert@mail.med.upenn.edu']],\n",
       "             'Putt': [[' PhD ScD',\n",
       "               'Professor of Biostatistics',\n",
       "               'mputt@mail.med.upenn.edu']],\n",
       "             'Ratcliffe': [[' Ph.D.',\n",
       "               'Associate Professor of Biostatistics',\n",
       "               'sratclif@upenn.edu']],\n",
       "             'Ross': [[' PhD',\n",
       "               'Assistant Professor is Biostatistics',\n",
       "               'michross@upenn.edu']],\n",
       "             'Roy': [[' Ph.D.',\n",
       "               'Associate Professor of Biostatistics',\n",
       "               'jaroy@mail.med.upenn.edu']],\n",
       "             'Sammel': [[' Sc.D.',\n",
       "               'Professor of Biostatistics',\n",
       "               'msammel@cceb.med.upenn.edu']],\n",
       "             'Shaw': [[' PhD',\n",
       "               'Assistant Professor of Biostatistics',\n",
       "               'shawp@upenn.edu']],\n",
       "             'Shinohara': [['0',\n",
       "               'Assistant Professor of Biostatistics',\n",
       "               'rshi@mail.med.upenn.edu']],\n",
       "             'Shou': [[' Ph.D.',\n",
       "               'Assistant Professor of Biostatistics',\n",
       "               'hshou@mail.med.upenn.edu']],\n",
       "             'Shults': [[' Ph.D.',\n",
       "               'Professor of Biostatistics',\n",
       "               'jshults@mail.med.upenn.edu']],\n",
       "             'Stephens': [[' Ph.D.',\n",
       "               'Assistant Professor of Biostatistics',\n",
       "               'alisaste@mail.med.upenn.edu']],\n",
       "             'Troxel': [[' ScD',\n",
       "               'Professor of Biostatistics',\n",
       "               'atroxel@mail.med.upenn.edu']],\n",
       "             'Xiao': [[' PhD',\n",
       "               'Assistant Professor of Biostatistics',\n",
       "               'rxiao@mail.med.upenn.edu']],\n",
       "             'Xie': [[' Ph.D.',\n",
       "               'Associate Professor of Biostatistics',\n",
       "               'sxie@mail.med.upenn.edu'],\n",
       "              [' PhD',\n",
       "               'Assistant Professor of Biostatistics',\n",
       "               'dxie@upenn.edu']],\n",
       "             'Yang': [[' Ph.D.',\n",
       "               'Assistant Professor of Biostatistics',\n",
       "               'weiyang@mail.med.upenn.edu\"\"\"']]})"
      ]
     },
     "execution_count": 44,
     "metadata": {},
     "output_type": "execute_result"
    }
   ],
   "source": [
    "result"
   ]
  },
  {
   "cell_type": "markdown",
   "metadata": {},
   "source": [
    "## Question 7"
   ]
  },
  {
   "cell_type": "code",
   "execution_count": 64,
   "metadata": {
    "collapsed": true
   },
   "outputs": [],
   "source": [
    "# read faculty csv and return a dictionary where keys are tuples of names\n",
    "# and values are the corresponding rows. Assume tuples are unique\n",
    "def get_dict():\n",
    "    result_dict = {} #dictionary with default value of list\n",
    "    csvReader = csv.reader(open('faculty.csv','r'))\n",
    "    header = next(csvReader)\n",
    "    \n",
    "    for row in csvReader:\n",
    "        key = tuple(row[0].split())\n",
    "        result_dict[key] = row[1:]\n",
    "    return result_dict"
   ]
  },
  {
   "cell_type": "code",
   "execution_count": 65,
   "metadata": {},
   "outputs": [
    {
     "data": {
      "text/plain": [
       "('Xavier', 'Vila')"
      ]
     },
     "execution_count": 65,
     "metadata": {},
     "output_type": "execute_result"
    }
   ],
   "source": [
    "s = 'Xavier Vila'\n",
    "tuple(s.split())"
   ]
  },
  {
   "cell_type": "code",
   "execution_count": 66,
   "metadata": {},
   "outputs": [
    {
     "data": {
      "text/plain": [
       "{('A.', 'Russell', 'Localio'): [' JD MA MPH MS PhD',\n",
       "  'Associate Professor of Biostatistics',\n",
       "  'rlocalio@upenn.edu'],\n",
       " ('Alisa', 'Jane', 'Stephens'): [' Ph.D.',\n",
       "  'Assistant Professor of Biostatistics',\n",
       "  'alisaste@mail.med.upenn.edu'],\n",
       " ('Andrea', 'Beth', 'Troxel'): [' ScD',\n",
       "  'Professor of Biostatistics',\n",
       "  'atroxel@mail.med.upenn.edu'],\n",
       " ('Benjamin', 'C.', 'French'): [' PhD',\n",
       "  'Associate Professor of Biostatistics',\n",
       "  'bcfrench@mail.med.upenn.edu'],\n",
       " ('Dawei', 'Xie'): [' PhD',\n",
       "  'Assistant Professor of Biostatistics',\n",
       "  'dxie@upenn.edu'],\n",
       " ('Haochang', 'Shou'): [' Ph.D.',\n",
       "  'Assistant Professor of Biostatistics',\n",
       "  'hshou@mail.med.upenn.edu'],\n",
       " ('Hongzhe', 'Li'): [' Ph.D',\n",
       "  'Professor of Biostatistics',\n",
       "  'hongzhe@upenn.edu'],\n",
       " ('J.', 'Richard', 'Landis'): [' B.S.Ed. M.S. Ph.D.',\n",
       "  'Professor of Biostatistics',\n",
       "  'jrlandis@mail.med.upenn.edu'],\n",
       " ('Jason', 'A.', 'Roy'): [' Ph.D.',\n",
       "  'Associate Professor of Biostatistics',\n",
       "  'jaroy@mail.med.upenn.edu'],\n",
       " ('Jinbo', 'Chen'): [' Ph.D.',\n",
       "  'Associate Professor of Biostatistics',\n",
       "  'jinboche@upenn.edu'],\n",
       " ('Jonas', 'H.', 'Ellenberg'): [' Ph.D.',\n",
       "  'Professor of Biostatistics',\n",
       "  'jellenbe@mail.med.upenn.edu'],\n",
       " ('Justine', 'Shults'): [' Ph.D.',\n",
       "  'Professor of Biostatistics',\n",
       "  'jshults@mail.med.upenn.edu'],\n",
       " ('Kathleen', 'Joy', 'Propert'): [' Sc.D.',\n",
       "  'Professor of Biostatistics',\n",
       "  'propert@mail.med.upenn.edu'],\n",
       " ('Knashawn', 'H.', 'Morales'): [' Sc.D.',\n",
       "  'Associate Professor of Biostatistics',\n",
       "  'knashawn@mail.med.upenn.edu'],\n",
       " ('Marshall', 'M.', 'Joffe'): [' MD MPH Ph.D',\n",
       "  'Professor of Biostatistics',\n",
       "  'mjoffe@mail.med.upenn.edu'],\n",
       " ('Mary', 'D.', 'Sammel'): [' Sc.D.',\n",
       "  'Professor of Biostatistics',\n",
       "  'msammel@cceb.med.upenn.edu'],\n",
       " ('Mary', 'E.', 'Putt'): [' PhD ScD',\n",
       "  'Professor of Biostatistics',\n",
       "  'mputt@mail.med.upenn.edu'],\n",
       " ('Matthew', 'W', 'Bryan'): [' PhD',\n",
       "  'Assistant Professor of Biostatistics',\n",
       "  'bryanma@upenn.edu'],\n",
       " ('Michelle', 'Elana', 'Ross'): [' PhD',\n",
       "  'Assistant Professor is Biostatistics',\n",
       "  'michross@upenn.edu'],\n",
       " ('Mingyao', 'Li'): [' Ph.D.',\n",
       "  'Associate Professor of Biostatistics',\n",
       "  'mingyao@mail.med.upenn.edu'],\n",
       " ('Nandita', 'Mitra'): [' Ph.D.',\n",
       "  'Associate Professor of Biostatistics',\n",
       "  'nanditam@mail.med.upenn.edu'],\n",
       " ('Pamela', 'Ann', 'Shaw'): [' PhD',\n",
       "  'Assistant Professor of Biostatistics',\n",
       "  'shawp@upenn.edu'],\n",
       " ('Phyllis', 'A.', 'Gimotty'): [' Ph.D',\n",
       "  'Professor of Biostatistics',\n",
       "  'pgimotty@upenn.edu'],\n",
       " ('Rebecca', 'A', 'Hubbard'): [' PhD',\n",
       "  'Associate Professor of Biostatistics',\n",
       "  'rhubb@mail.med.upenn.edu'],\n",
       " ('Rui', 'Feng'): [' Ph.D',\n",
       "  'Assistant Professor of Biostatistics',\n",
       "  'ruifeng@upenn.edu'],\n",
       " ('Rui', 'Xiao'): [' PhD',\n",
       "  'Assistant Professor of Biostatistics',\n",
       "  'rxiao@mail.med.upenn.edu'],\n",
       " ('Russell', 'Takeshi', 'Shinohara'): ['0',\n",
       "  'Assistant Professor of Biostatistics',\n",
       "  'rshi@mail.med.upenn.edu'],\n",
       " ('Sarah', 'Jane', 'Ratcliffe'): [' Ph.D.',\n",
       "  'Associate Professor of Biostatistics',\n",
       "  'sratclif@upenn.edu'],\n",
       " ('Scarlett', 'L.', 'Bellamy'): [' Sc.D.',\n",
       "  'Associate Professor of Biostatistics',\n",
       "  'bellamys@mail.med.upenn.edu'],\n",
       " ('Sharon', 'Xiangwen', 'Xie'): [' Ph.D.',\n",
       "  'Associate Professor of Biostatistics',\n",
       "  'sxie@mail.med.upenn.edu'],\n",
       " ('Susan', 'S', 'Ellenberg'): [' Ph.D.',\n",
       "  'Professor of Biostatistics',\n",
       "  'sellenbe@upenn.edu'],\n",
       " ('Warren', 'B.', 'Bilker'): ['Ph.D.',\n",
       "  'Professor of Biostatistics',\n",
       "  'warren@upenn.edu'],\n",
       " ('Wei', '(Peter)', 'Yang'): [' Ph.D.',\n",
       "  'Assistant Professor of Biostatistics',\n",
       "  'weiyang@mail.med.upenn.edu\"\"\"'],\n",
       " ('Wei-Ting', 'Hwang'): [' Ph.D.',\n",
       "  'Associate Professor of Biostatistics',\n",
       "  'whwang@mail.med.upenn.edu'],\n",
       " ('Wensheng', 'Guo'): [' Ph.D',\n",
       "  'Professor of Biostatistics',\n",
       "  'wguo@mail.med.upenn.edu'],\n",
       " ('Yenchih', 'Hsu'): [' Ph.D.',\n",
       "  'Assistant Professor of Biostatistics',\n",
       "  'hsu9@mail.med.upenn.edu'],\n",
       " ('Yimei', 'Li'): [' Ph.D.',\n",
       "  'Assistant Professor of Biostatistics',\n",
       "  'liy3@email.chop.edu']}"
      ]
     },
     "execution_count": 66,
     "metadata": {},
     "output_type": "execute_result"
    }
   ],
   "source": [
    "get_dict()"
   ]
  },
  {
   "cell_type": "code",
   "execution_count": null,
   "metadata": {
    "collapsed": true
   },
   "outputs": [],
   "source": []
  }
 ],
 "metadata": {
  "kernelspec": {
   "display_name": "Python 3",
   "language": "python",
   "name": "python3"
  },
  "language_info": {
   "codemirror_mode": {
    "name": "ipython",
    "version": 3
   },
   "file_extension": ".py",
   "mimetype": "text/x-python",
   "name": "python",
   "nbconvert_exporter": "python",
   "pygments_lexer": "ipython3",
   "version": "3.6.2"
  }
 },
 "nbformat": 4,
 "nbformat_minor": 2
}
