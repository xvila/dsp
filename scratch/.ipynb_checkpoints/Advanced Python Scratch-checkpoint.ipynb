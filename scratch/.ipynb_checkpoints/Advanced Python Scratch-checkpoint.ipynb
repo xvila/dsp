{
 "cells": [
  {
   "cell_type": "code",
   "execution_count": 59,
   "metadata": {
    "collapsed": true
   },
   "outputs": [],
   "source": [
    "import re\n",
    "import csv"
   ]
  },
  {
   "cell_type": "markdown",
   "metadata": {},
   "source": [
    "## Question 1"
   ]
  },
  {
   "cell_type": "code",
   "execution_count": 63,
   "metadata": {},
   "outputs": [],
   "source": [
    "# return a dictionary with standardized degrees and the count of their occurances is their value.\n",
    "# use regular expressions\n",
    "# Remember Default Dict\n",
    "# Create a list first of all degrees\n",
    "# loop throught he list \n",
    "\n",
    "def count_degrees(csv_file_name):\n",
    "    phd_re = r'(Ph\\.?D\\.?)'\n",
    "    scd_re = r'(Sc\\.?D\\.?)'\n",
    "    md_re = r'(M\\.?D\\.?)'\n",
    "    mph_re = r'(MPH)'\n",
    "    ma_re = r'(MA)'\n",
    "    bsed_re = r'(B\\.?S.?Ed\\.?)'\n",
    "    no_re = r'(0)'\n",
    "    ms_re = r'(M\\.?S\\.?)'\n",
    "    jd_re = r'(J\\.?D\\.?)'\n",
    "\n",
    "    csvreader = csv.reader(open(csv_file_name,newline=''))\n",
    "    header = next(csvreader)\n",
    "    degrees = [row[1] for row in csvreader]\n",
    "    \n",
    "    degree_dict = {'MD':0, 'MA':0, 'SCD':0, 'BSED':0, 'PHD':0,\n",
    "               '0':0, 'MPH':0, 'MS':0, 'JD':0}\n",
    "    \n",
    "    for degree in degrees:\n",
    "        if re.findall(phd_re,degree):\n",
    "            degree_dict['PHD'] += 1\n",
    "        if re.findall(scd_re,degree):\n",
    "            degree_dict['SCD'] += 1\n",
    "        if re.findall(md_re,degree):\n",
    "            degree_dict['MD'] += 1\n",
    "        if re.findall(ma_re,degree):\n",
    "            degree_dict['MA'] += 1\n",
    "        if re.findall(mph_re,degree):\n",
    "            degree_dict['MPH'] += 1\n",
    "        if re.findall(bsed_re,degree):\n",
    "            degree_dict['BSED'] += 1\n",
    "        if re.findall(no_re,degree):\n",
    "            degree_dict['0'] += 1\n",
    "        if re.findall(ms_re,degree):\n",
    "            degree_dict['MS'] += 1\n",
    "        if re.findall(jd_re,degree):\n",
    "            degree_dict['JD'] += 1\n",
    "\n",
    "    return degree_dict"
   ]
  },
  {
   "cell_type": "code",
   "execution_count": 64,
   "metadata": {},
   "outputs": [],
   "source": [
    "test_file = \"faculty.csv\"\n",
    "degree_test = count_degrees(test_file)"
   ]
  },
  {
   "cell_type": "code",
   "execution_count": 56,
   "metadata": {},
   "outputs": [],
   "source": [
    "phd_re = r'(Ph\\.?D\\.?)'\n",
    "scd_re = r'(Sc\\.?D\\.?)'\n",
    "md_re = r'(M\\.?D\\.?)'\n",
    "mph_re = r'(MPH)'\n",
    "ma_re = r'(MA)'\n",
    "bsed_re = r'(B\\.?S.?Ed\\.?)'\n",
    "no_re = r'(0)'\n",
    "ms_re = r'(M\\.?S\\.?)'\n",
    "jd_re = r'(J\\.?D\\.?)'\n",
    "\n",
    "degree_dict = {'MD':0, 'MA':0, 'SCD':0, 'BSED':0, 'PHD':0,\n",
    "               '0':0, 'MPH':0, 'MS':0, 'JD':0}\n",
    "for degree in degree_test:\n",
    "    if re.findall(phd_re,degree):\n",
    "        degree_dict['PHD'] += 1\n",
    "    if re.findall(scd_re,degree):\n",
    "        degree_dict['SCD'] += 1\n",
    "    if re.findall(md_re,degree):\n",
    "        degree_dict['MD'] += 1\n",
    "    if re.findall(ma_re,degree):\n",
    "        degree_dict['MA'] += 1\n",
    "    if re.findall(mph_re,degree):\n",
    "        degree_dict['MPH'] += 1\n",
    "    if re.findall(bsed_re,degree):\n",
    "        degree_dict['BSED'] += 1\n",
    "    if re.findall(no_re,degree):\n",
    "        degree_dict['0'] += 1\n",
    "    if re.findall(ms_re,degree):\n",
    "        degree_dict['MS'] += 1\n",
    "    if re.findall(jd_re,degree):\n",
    "        degree_dict['JD'] += 1\n",
    "    "
   ]
  },
  {
   "cell_type": "code",
   "execution_count": 57,
   "metadata": {},
   "outputs": [
    {
     "data": {
      "text/plain": [
       "0"
      ]
     },
     "execution_count": 57,
     "metadata": {},
     "output_type": "execute_result"
    }
   ],
   "source": [
    "len(phd_list)"
   ]
  },
  {
   "cell_type": "code",
   "execution_count": 65,
   "metadata": {},
   "outputs": [
    {
     "data": {
      "text/plain": [
       "{'0': 1,\n",
       " 'BSED': 1,\n",
       " 'JD': 1,\n",
       " 'MA': 1,\n",
       " 'MD': 1,\n",
       " 'MPH': 2,\n",
       " 'MS': 2,\n",
       " 'PHD': 31,\n",
       " 'SCD': 6}"
      ]
     },
     "execution_count": 65,
     "metadata": {},
     "output_type": "execute_result"
    }
   ],
   "source": [
    "degree_test"
   ]
  },
  {
   "cell_type": "markdown",
   "metadata": {},
   "source": [
    "## Question 2"
   ]
  },
  {
   "cell_type": "code",
   "execution_count": null,
   "metadata": {
    "collapsed": true
   },
   "outputs": [],
   "source": []
  }
 ],
 "metadata": {
  "kernelspec": {
   "display_name": "Python 3",
   "language": "python",
   "name": "python3"
  },
  "language_info": {
   "codemirror_mode": {
    "name": "ipython",
    "version": 3
   },
   "file_extension": ".py",
   "mimetype": "text/x-python",
   "name": "python",
   "nbconvert_exporter": "python",
   "pygments_lexer": "ipython3",
   "version": "3.6.2"
  }
 },
 "nbformat": 4,
 "nbformat_minor": 2
}
