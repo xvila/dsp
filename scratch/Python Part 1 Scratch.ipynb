{
 "cells": [
  {
   "cell_type": "code",
   "execution_count": 52,
   "metadata": {
    "collapsed": true
   },
   "outputs": [],
   "source": [
    "my_list = [1,2,3,4,5,6,7,24,76,77,8,9,10,11,12,13,14,15,16,17,18,19]"
   ]
  },
  {
   "cell_type": "code",
   "execution_count": 5,
   "metadata": {
    "collapsed": true
   },
   "outputs": [],
   "source": [
    "test_list = [3, 4, 7, 2, 9, 170]"
   ]
  },
  {
   "cell_type": "code",
   "execution_count": 14,
   "metadata": {},
   "outputs": [
    {
     "data": {
      "text/plain": [
       "[4, 2, 170]"
      ]
     },
     "execution_count": 14,
     "metadata": {},
     "output_type": "execute_result"
    }
   ],
   "source": [
    "new_list"
   ]
  },
  {
   "cell_type": "code",
   "execution_count": 67,
   "metadata": {
    "collapsed": true
   },
   "outputs": [],
   "source": [
    "f = lambda my_list: filter(lambda x: x % 2 == 0, my_list)"
   ]
  },
  {
   "cell_type": "code",
   "execution_count": 70,
   "metadata": {},
   "outputs": [
    {
     "name": "stdout",
     "output_type": "stream",
     "text": [
      "2\n",
      "4\n",
      "6\n",
      "24\n",
      "76\n",
      "8\n",
      "10\n",
      "12\n",
      "14\n",
      "16\n",
      "18\n"
     ]
    }
   ],
   "source": [
    "for x in f(my_list):\n",
    "    print(x)"
   ]
  },
  {
   "cell_type": "code",
   "execution_count": 71,
   "metadata": {
    "collapsed": true
   },
   "outputs": [],
   "source": [
    "items_list = [1,2,3,4,5]"
   ]
  },
  {
   "cell_type": "code",
   "execution_count": 77,
   "metadata": {
    "collapsed": true
   },
   "outputs": [],
   "source": [
    "def sqr(x):\n",
    "    return x**2"
   ]
  },
  {
   "cell_type": "code",
   "execution_count": 78,
   "metadata": {
    "collapsed": true
   },
   "outputs": [],
   "source": [
    "items_squared = list(map(sqr,items_list))"
   ]
  },
  {
   "cell_type": "code",
   "execution_count": 79,
   "metadata": {},
   "outputs": [
    {
     "data": {
      "text/plain": [
       "[1, 4, 9, 16, 25]"
      ]
     },
     "execution_count": 79,
     "metadata": {},
     "output_type": "execute_result"
    }
   ],
   "source": [
    "items_squared"
   ]
  },
  {
   "cell_type": "code",
   "execution_count": 80,
   "metadata": {
    "collapsed": true
   },
   "outputs": [],
   "source": [
    "xlist = [0, 5, 10, 15, 20, 25, 30, 35, 40, 45, 50, 75,100]"
   ]
  },
  {
   "cell_type": "code",
   "execution_count": 81,
   "metadata": {
    "collapsed": true
   },
   "outputs": [],
   "source": [
    "tens_list = list(filter(lambda x: x%10==0, xlist))"
   ]
  },
  {
   "cell_type": "code",
   "execution_count": 82,
   "metadata": {},
   "outputs": [
    {
     "data": {
      "text/plain": [
       "[0, 10, 20, 30, 40, 50, 100]"
      ]
     },
     "execution_count": 82,
     "metadata": {},
     "output_type": "execute_result"
    }
   ],
   "source": [
    "tens_list"
   ]
  },
  {
   "cell_type": "markdown",
   "metadata": {},
   "source": [
    "Datetime"
   ]
  },
  {
   "cell_type": "code",
   "execution_count": 148,
   "metadata": {
    "collapsed": true
   },
   "outputs": [],
   "source": [
    "from datetime import datetime"
   ]
  },
  {
   "cell_type": "code",
   "execution_count": 97,
   "metadata": {
    "collapsed": true
   },
   "outputs": [],
   "source": [
    "date_start = '01-02-2013'\n",
    "date_stop = '01-03-2013'"
   ]
  },
  {
   "cell_type": "code",
   "execution_count": 111,
   "metadata": {
    "collapsed": true
   },
   "outputs": [],
   "source": [
    "def difference_in_days(date1,date2):\n",
    "    date1 = datetime.strptime(date1, '%m-%d-%Y')\n",
    "    date2 = datetime.strptime(date2, '%m-%d-%Y')\n",
    "    diff = date2-date1\n",
    "    return diff.days"
   ]
  },
  {
   "cell_type": "code",
   "execution_count": 112,
   "metadata": {},
   "outputs": [
    {
     "data": {
      "text/plain": [
       "1"
      ]
     },
     "execution_count": 112,
     "metadata": {},
     "output_type": "execute_result"
    }
   ],
   "source": [
    "difference_in_days(date_start,date_stop)"
   ]
  },
  {
   "cell_type": "code",
   "execution_count": 1,
   "metadata": {
    "collapsed": true
   },
   "outputs": [],
   "source": [
    "i = 5\n",
    "statement = \"Hello Number: %s\" % i"
   ]
  },
  {
   "cell_type": "code",
   "execution_count": 3,
   "metadata": {},
   "outputs": [
    {
     "name": "stdout",
     "output_type": "stream",
     "text": [
      "Hello Number: 5\n"
     ]
    }
   ],
   "source": [
    "print(statement)"
   ]
  },
  {
   "cell_type": "markdown",
   "metadata": {
    "collapsed": true
   },
   "source": [
    "### Strings"
   ]
  },
  {
   "cell_type": "code",
   "execution_count": 1,
   "metadata": {
    "collapsed": true
   },
   "outputs": [],
   "source": [
    "def both_ends(s):\n",
    "    if len(s) < 2:\n",
    "        new_s = ''\n",
    "    \n",
    "    else:\n",
    "        s_front = s[:2]\n",
    "        s_back = s[-2:]\n",
    "        new_s = s_front+s_back\n",
    "        \n",
    "    return new_s\n",
    "        \n",
    "        "
   ]
  },
  {
   "cell_type": "code",
   "execution_count": 2,
   "metadata": {},
   "outputs": [
    {
     "data": {
      "text/plain": [
       "'Helo'"
      ]
     },
     "execution_count": 2,
     "metadata": {},
     "output_type": "execute_result"
    }
   ],
   "source": [
    "both_ends('Hello')"
   ]
  },
  {
   "cell_type": "code",
   "execution_count": 3,
   "metadata": {},
   "outputs": [
    {
     "data": {
      "text/plain": [
       "'spng'"
      ]
     },
     "execution_count": 3,
     "metadata": {},
     "output_type": "execute_result"
    }
   ],
   "source": [
    "both_ends('spring')"
   ]
  },
  {
   "cell_type": "code",
   "execution_count": 4,
   "metadata": {},
   "outputs": [
    {
     "data": {
      "text/plain": [
       "''"
      ]
     },
     "execution_count": 4,
     "metadata": {},
     "output_type": "execute_result"
    }
   ],
   "source": [
    "both_ends('a')"
   ]
  },
  {
   "cell_type": "code",
   "execution_count": 12,
   "metadata": {
    "collapsed": true
   },
   "outputs": [],
   "source": [
    "# replace the first character in a string with * starting at second character\n",
    "# example: babble = ba**le\n",
    "\n",
    "def fix_start(s):\n",
    "    s_first = s[0]\n",
    "    s_back = s[1:]\n",
    "    s_back = s_back.replace(s_first,'*')\n",
    "    new_s = s_first + s_back\n",
    "    \n",
    "    return new_s"
   ]
  },
  {
   "cell_type": "code",
   "execution_count": 17,
   "metadata": {},
   "outputs": [
    {
     "data": {
      "text/plain": [
       "'a*rdv*rk'"
      ]
     },
     "execution_count": 17,
     "metadata": {},
     "output_type": "execute_result"
    }
   ],
   "source": [
    "fix_start('aardvark')"
   ]
  },
  {
   "cell_type": "code",
   "execution_count": 26,
   "metadata": {
    "collapsed": true
   },
   "outputs": [],
   "source": [
    "# create a function that takes two params and returns a single string separated by a space.\n",
    "# swap the first two characters of each string\n",
    "# example: mix and pod = pox mid\n",
    "def mix_up(a, b):\n",
    "    a_first = a[:2]\n",
    "    b_first = b[:2]\n",
    "    a_last = a[2:]\n",
    "    b_last = b[2:]\n",
    "    new_string = b_first + a_last + \" \" + a_first + b_last\n",
    "    \n",
    "    return new_string\n",
    "    "
   ]
  },
  {
   "cell_type": "code",
   "execution_count": 28,
   "metadata": {},
   "outputs": [
    {
     "data": {
      "text/plain": [
       "'spash gnort'"
      ]
     },
     "execution_count": 28,
     "metadata": {},
     "output_type": "execute_result"
    }
   ],
   "source": [
    "mix_up('gnash','sport')"
   ]
  },
  {
   "cell_type": "code",
   "execution_count": 29,
   "metadata": {},
   "outputs": [
    {
     "data": {
      "text/plain": [
       "'ing'"
      ]
     },
     "execution_count": 29,
     "metadata": {},
     "output_type": "execute_result"
    }
   ],
   "source": [
    "s = 'swimming'\n",
    "s[-3:]"
   ]
  },
  {
   "cell_type": "code",
   "execution_count": 30,
   "metadata": {
    "collapsed": true
   },
   "outputs": [],
   "source": [
    "def verbing(s):\n",
    "    if len(s) < 3:\n",
    "        new_string = s\n",
    "    else:\n",
    "        s_end = s[-3:]\n",
    "        if s_end == 'ing':\n",
    "            new_string = s + 'ly'\n",
    "        else:\n",
    "            new_string = s + 'ing'\n",
    "    \n",
    "    return new_string"
   ]
  },
  {
   "cell_type": "code",
   "execution_count": 34,
   "metadata": {},
   "outputs": [
    {
     "data": {
      "text/plain": [
       "'do'"
      ]
     },
     "execution_count": 34,
     "metadata": {},
     "output_type": "execute_result"
    }
   ],
   "source": [
    "verbing('do')"
   ]
  },
  {
   "cell_type": "code",
   "execution_count": 47,
   "metadata": {
    "collapsed": true
   },
   "outputs": [],
   "source": [
    "# Find the first appearance of substring not and bad\n",
    "# if bad follows the not then replace both with good\n",
    "# example: This dinner is not bad! changes to \"This dinner is good!\"\n",
    "# use find to return the index\n",
    "def not_bad(s):\n",
    "    not_index = s.find('not')\n",
    "    bad_index = s.find('bad')\n",
    "    if not_index < bad_index:\n",
    "        s_start = s[:not_index]\n",
    "        s_end = s[bad_index+3:]\n",
    "        new_string = s_start + \"good\" + s_end\n",
    "    else:\n",
    "        new_string = s\n",
    "    return new_string"
   ]
  },
  {
   "cell_type": "code",
   "execution_count": 48,
   "metadata": {},
   "outputs": [
    {
     "data": {
      "text/plain": [
       "'This dinner is good!'"
      ]
     },
     "execution_count": 48,
     "metadata": {},
     "output_type": "execute_result"
    }
   ],
   "source": [
    "not_bad(\"This dinner is not that bad!\")"
   ]
  },
  {
   "cell_type": "code",
   "execution_count": 62,
   "metadata": {
    "collapsed": true
   },
   "outputs": [],
   "source": [
    "def front_back(s1,s2):\n",
    "    if len(s1) % 2 == 0:\n",
    "        half_s1 = int(len(s1) / 2)\n",
    "    else:\n",
    "        half_s1 = int(len(s1) / 2) + 1\n",
    "    \n",
    "    if len(s2) % 2 == 0:\n",
    "        half_s2 = int(len(s2) / 2)\n",
    "    else:\n",
    "        half_s2 = int(len(s2) / 2) + 1\n",
    "         \n",
    "    s1_first = s1[:half_s1]\n",
    "    s1_last = s1[half_s1:]\n",
    "    s2_first = s2[:half_s2]\n",
    "    s2_last = s2[half_s2:]\n",
    "    \n",
    "    return s1_first + s2_first + s1_last + s2_last"
   ]
  },
  {
   "cell_type": "code",
   "execution_count": 66,
   "metadata": {},
   "outputs": [
    {
     "data": {
      "text/plain": [
       "'abcxydez'"
      ]
     },
     "execution_count": 66,
     "metadata": {},
     "output_type": "execute_result"
    }
   ],
   "source": [
    "front_back('abcde', 'xyz')"
   ]
  },
  {
   "cell_type": "markdown",
   "metadata": {},
   "source": [
    "### Lists"
   ]
  },
  {
   "cell_type": "code",
   "execution_count": 67,
   "metadata": {
    "collapsed": true
   },
   "outputs": [],
   "source": [
    "def match_ends(s):\n",
    "    list_count = 0\n",
    "    for x in s:\n",
    "        if len(x) > 1:\n",
    "            first = x[0]\n",
    "            last = x[-1]\n",
    "            if first == last:\n",
    "                list_count += 1\n",
    "    return list_count"
   ]
  },
  {
   "cell_type": "code",
   "execution_count": 68,
   "metadata": {},
   "outputs": [
    {
     "data": {
      "text/plain": [
       "3"
      ]
     },
     "execution_count": 68,
     "metadata": {},
     "output_type": "execute_result"
    }
   ],
   "source": [
    "match_ends([\"aba\", \"xyz\", \"aa\", \"x\", \"bbb\"])"
   ]
  },
  {
   "cell_type": "code",
   "execution_count": 3,
   "metadata": {
    "collapsed": true
   },
   "outputs": [],
   "source": [
    "# return a list of strings in sorted order except x\n",
    "# if it starts with x then put that in the beginning\n",
    "def front_x(words):\n",
    "    x_words = []\n",
    "    non_x_words = []\n",
    "    \n",
    "    for word in words:\n",
    "        if word[0] == 'x':\n",
    "            x_words.append(word)\n",
    "        else:\n",
    "            non_x_words.append(word)\n",
    "    \n",
    "    x_words.sort()\n",
    "    non_x_words.sort()\n",
    "    \n",
    "    return x_words + non_x_words"
   ]
  },
  {
   "cell_type": "code",
   "execution_count": 4,
   "metadata": {},
   "outputs": [
    {
     "data": {
      "text/plain": [
       "['xanadu', 'xyz', 'aardvark', 'apple', 'mix']"
      ]
     },
     "execution_count": 4,
     "metadata": {},
     "output_type": "execute_result"
    }
   ],
   "source": [
    "front_x([\"mix\", \"xyz\", \"apple\", \"xanadu\", \"aardvark\"])"
   ]
  },
  {
   "cell_type": "code",
   "execution_count": 5,
   "metadata": {
    "collapsed": true
   },
   "outputs": [],
   "source": [
    "# Given a list of tuples sort ascending based on the last element of the tuple\n",
    "def sort_last(tuples):\n",
    "    return sorted(tuples,key=lambda t_list:t_list[-1])"
   ]
  },
  {
   "cell_type": "code",
   "execution_count": 53,
   "metadata": {
    "collapsed": true
   },
   "outputs": [],
   "source": [
    "# given a list of numbers remove adjacent duplicate numbers\n",
    "# [3,2,3,3,3] = [3,2,3]\n",
    "\n",
    "def remove_adjacent(nums):\n",
    "    i = 0\n",
    "    newlist= []\n",
    "    while i < len(nums)-1:\n",
    "        if nums[i] == nums[i+1]:\n",
    "            pass\n",
    "        else:\n",
    "            newlist.append(nums[i])\n",
    "        i+=1\n",
    "    \n",
    "    newlist.append(nums[-1])\n",
    "    return newlist\n",
    "    "
   ]
  },
  {
   "cell_type": "code",
   "execution_count": 54,
   "metadata": {},
   "outputs": [
    {
     "data": {
      "text/plain": [
       "[2, 3, 2]"
      ]
     },
     "execution_count": 54,
     "metadata": {},
     "output_type": "execute_result"
    }
   ],
   "source": [
    "remove_adjacent([2, 2, 3, 3, 3, 2])"
   ]
  },
  {
   "cell_type": "code",
   "execution_count": 55,
   "metadata": {},
   "outputs": [
    {
     "data": {
      "text/plain": [
       "[1, 2, 3]"
      ]
     },
     "execution_count": 55,
     "metadata": {},
     "output_type": "execute_result"
    }
   ],
   "source": [
    "remove_adjacent([1,2,2,3])"
   ]
  },
  {
   "cell_type": "code",
   "execution_count": 56,
   "metadata": {},
   "outputs": [
    {
     "data": {
      "text/plain": [
       "[1, 2]"
      ]
     },
     "execution_count": 56,
     "metadata": {},
     "output_type": "execute_result"
    }
   ],
   "source": [
    "remove_adjacent([1,2,2])"
   ]
  },
  {
   "cell_type": "code",
   "execution_count": 57,
   "metadata": {},
   "outputs": [
    {
     "data": {
      "text/plain": [
       "[-1, 1.5, 5]"
      ]
     },
     "execution_count": 57,
     "metadata": {},
     "output_type": "execute_result"
    }
   ],
   "source": [
    "remove_adjacent([-1, 1.5, 5])"
   ]
  },
  {
   "cell_type": "code",
   "execution_count": 65,
   "metadata": {
    "collapsed": true
   },
   "outputs": [],
   "source": [
    "# merge 2 lists and sort\n",
    "def linear_merge(list1, list2):\n",
    "    newList = list1 + list2\n",
    "    newList.sort()\n",
    "    return newList"
   ]
  },
  {
   "cell_type": "code",
   "execution_count": 66,
   "metadata": {},
   "outputs": [
    {
     "name": "stdout",
     "output_type": "stream",
     "text": [
      "[-1, 1, 1.5, 2, 2, 5]\n"
     ]
    }
   ],
   "source": [
    "print(linear_merge([1,2,2],[-1, 1.5, 5]))"
   ]
  },
  {
   "cell_type": "markdown",
   "metadata": {},
   "source": [
    "### Parsing"
   ]
  },
  {
   "cell_type": "code",
   "execution_count": 106,
   "metadata": {
    "collapsed": true
   },
   "outputs": [],
   "source": [
    "# The football.csv file contains the results from the English Premier League.\n",
    "# The columns labeled ‘Goals’ and ‘Goals Allowed’ contain the total number of\n",
    "# goals scored for and against each team in that season (so Arsenal scored 79 goals\n",
    "# against opponents, and had 36 goals scored against them). Write a program to read the file,\n",
    "# then print the name of the team with the smallest difference in ‘for’ and ‘against’ goals.\n",
    "\n",
    "# Don't use pandas.\n",
    "\n",
    "# Following functions will be called like this:\n",
    "#   footballTable = read_data('football.csv')\n",
    "#   minRow = get_index_with_min_abs_score_difference(footballTable)\n",
    "#   print str(get_team(minRow, footballTable))"
   ]
  },
  {
   "cell_type": "code",
   "execution_count": 107,
   "metadata": {
    "collapsed": true
   },
   "outputs": [],
   "source": [
    "import sys\n",
    "import os\n",
    "import csv"
   ]
  },
  {
   "cell_type": "code",
   "execution_count": 124,
   "metadata": {
    "collapsed": true
   },
   "outputs": [],
   "source": [
    "def read_data(filename):\n",
    "    \"\"\"Returns a list of lists representing the rows of the csv file data.\n",
    "\n",
    "    Arguments: filename is the name of a csv file (as a string)\n",
    "    Returns: list of lists of strings, where every line is split into a list of values. \n",
    "        ex: ['Arsenal', 38, 26, 9, 3, 79, 36, 87]\n",
    "    \"\"\"\n",
    "    #football_data = [line.strip().split(\",\") for line in filename]\n",
    "    #file = open(filename,newline='')\n",
    "    csvreader = csv.reader(open(filename,newline=''))\n",
    "    header = next(csvreader)\n",
    "    data = [row for row in csvreader]\n",
    "    \n",
    "    return data"
   ]
  },
  {
   "cell_type": "code",
   "execution_count": 125,
   "metadata": {
    "collapsed": true
   },
   "outputs": [],
   "source": [
    "test_list = \"test.txt\""
   ]
  },
  {
   "cell_type": "code",
   "execution_count": 126,
   "metadata": {
    "collapsed": true
   },
   "outputs": [],
   "source": [
    "football_data = read_data(test_list)"
   ]
  },
  {
   "cell_type": "code",
   "execution_count": 111,
   "metadata": {},
   "outputs": [
    {
     "name": "stdout",
     "output_type": "stream",
     "text": [
      "0 79\n",
      "1 67\n",
      "2 87\n",
      "3 74\n",
      "4 53\n",
      "5 66\n",
      "6 48\n",
      "7 46\n",
      "8 49\n",
      "9 55\n",
      "10 46\n",
      "11 35\n",
      "12 36\n",
      "13 38\n",
      "14 45\n",
      "15 44\n",
      "16 29\n",
      "17 41\n",
      "18 33\n",
      "19 30\n"
     ]
    }
   ],
   "source": [
    "for(idx,val) in enumerate(football_data):\n",
    "    print(idx,int(val[5]))"
   ]
  },
  {
   "cell_type": "code",
   "execution_count": 127,
   "metadata": {
    "collapsed": true
   },
   "outputs": [],
   "source": [
    "def get_index_with_min_abs_score_difference(goals):\n",
    "    \"\"\"Returns the index of the team with the smallest difference\n",
    "    between 'for' and 'against' goals, in terms of absolute value.\n",
    "\n",
    "    Arguments: parsed_data is a list of lists of cleaned strings\n",
    "    Returns: integer row index\n",
    "    \"\"\"\n",
    "    \n",
    "    # Loop through a list of lists\n",
    "    # abs(goals-goals allowed)\n",
    "    # store in list of list or list of tuples\n",
    "    # return index of min value\n",
    "    diffs = []\n",
    "    \n",
    "    for(idx,val) in enumerate(goals):\n",
    "        diff = idx,abs(int(val[5]) - int(val[6]))\n",
    "        diffs.append(diff)\n",
    "        \n",
    "    sorted_diffs = sorted(diffs,key=lambda diff_list:diff_list[-1])\n",
    "    \n",
    "    return sorted_diffs[0][0]"
   ]
  },
  {
   "cell_type": "code",
   "execution_count": 129,
   "metadata": {
    "collapsed": true
   },
   "outputs": [],
   "source": [
    "goals = []\n",
    "diffs = []\n",
    "for(idx,val) in enumerate(football_data):\n",
    "    diff = idx,abs(int(val[5]) - int(val[6]))\n",
    "    diffs.append(diff)"
   ]
  },
  {
   "cell_type": "code",
   "execution_count": 130,
   "metadata": {
    "collapsed": true
   },
   "outputs": [],
   "source": [
    "sorted_diffs = sorted(diffs,key=lambda diff_list:diff_list[-1])"
   ]
  },
  {
   "cell_type": "code",
   "execution_count": 133,
   "metadata": {},
   "outputs": [
    {
     "data": {
      "text/plain": [
       "7"
      ]
     },
     "execution_count": 133,
     "metadata": {},
     "output_type": "execute_result"
    }
   ],
   "source": [
    "sorted_diffs[0][0]"
   ]
  },
  {
   "cell_type": "code",
   "execution_count": 128,
   "metadata": {},
   "outputs": [
    {
     "data": {
      "text/plain": [
       "7"
      ]
     },
     "execution_count": 128,
     "metadata": {},
     "output_type": "execute_result"
    }
   ],
   "source": [
    "get_index_with_min_abs_score_difference(football_data)"
   ]
  },
  {
   "cell_type": "code",
   "execution_count": 137,
   "metadata": {
    "collapsed": true
   },
   "outputs": [],
   "source": [
    "def get_team(index_value, parsed_data):\n",
    "    \"\"\"Returns the team name at a given index.\n",
    "    \n",
    "    Arguments: index_value is an integer row index\n",
    "               parsed_data is the output of `read_data` above\n",
    "               \n",
    "    Returns: the team name\n",
    "    \"\"\"\n",
    "    return parsed_data[index_value][0]"
   ]
  },
  {
   "cell_type": "code",
   "execution_count": 135,
   "metadata": {},
   "outputs": [
    {
     "data": {
      "text/plain": [
       "[['Arsenal', '38', '26', '9', '3', '79', '36', '87'],\n",
       " ['Liverpool', '38', '24', '8', '6', '67', '30', '80'],\n",
       " ['Manchester United', '38', '24', '5', '9', '87', '45', '77'],\n",
       " ['Newcastle', '38', '21', '8', '9', '74', '52', '71'],\n",
       " ['Leeds', '38', '18', '12', '8', '53', '37', '66'],\n",
       " ['Chelsea', '38', '17', '13', '8', '66', '38', '64'],\n",
       " ['West_Ham', '38', '15', '8', '15', '48', '57', '53'],\n",
       " ['Aston_Villa', '38', '12', '14', '12', '46', '47', '50'],\n",
       " ['Tottenham', '38', '14', '8', '16', '49', '53', '50'],\n",
       " ['Blackburn', '38', '12', '10', '16', '55', '51', '46'],\n",
       " ['Southampton', '38', '12', '9', '17', '46', '54', '45'],\n",
       " ['Middlesbrough', '38', '12', '9', '17', '35', '47', '45'],\n",
       " ['Fulham', '38', '10', '14', '14', '36', '44', '44'],\n",
       " ['Charlton', '38', '10', '14', '14', '38', '49', '44'],\n",
       " ['Everton', '38', '11', '10', '17', '45', '57', '43'],\n",
       " ['Bolton', '38', '9', '13', '16', '44', '62', '40'],\n",
       " ['Sunderland', '38', '10', '10', '18', '29', '51', '40'],\n",
       " ['Ipswich', '38', '9', '9', '20', '41', '64', '36'],\n",
       " ['Derby', '38', '8', '6', '24', '33', '63', '30'],\n",
       " ['Leicester', '38', '5', '13', '20', '30', '64', '28']]"
      ]
     },
     "execution_count": 135,
     "metadata": {},
     "output_type": "execute_result"
    }
   ],
   "source": [
    "football_data"
   ]
  },
  {
   "cell_type": "code",
   "execution_count": 139,
   "metadata": {},
   "outputs": [
    {
     "data": {
      "text/plain": [
       "'West_Ham'"
      ]
     },
     "execution_count": 139,
     "metadata": {},
     "output_type": "execute_result"
    }
   ],
   "source": [
    "get_team(6,football_data)"
   ]
  },
  {
   "cell_type": "code",
   "execution_count": 141,
   "metadata": {
    "collapsed": true
   },
   "outputs": [],
   "source": [
    "import random\n",
    "\n",
    "def measure_time(f, *args):\n",
    "    then = datetime.now()\n",
    "    res = f(*args)\n",
    "    now = datetime.now()\n",
    "    return res, now-then\n",
    "\n",
    "list1 = random.sample(range(10**6), 10000)\n",
    "list2 = random.sample(range(10**6), 10000)"
   ]
  },
  {
   "cell_type": "code",
   "execution_count": 145,
   "metadata": {
    "collapsed": true
   },
   "outputs": [],
   "source": [
    "def intersect_lists_1(list1,list2):\n",
    "    return [x for x in list1 if x in list2]"
   ]
  },
  {
   "cell_type": "code",
   "execution_count": 152,
   "metadata": {
    "collapsed": true
   },
   "outputs": [],
   "source": [
    "def intersect_lists_2(list1, list2):\n",
    "    list1 = set(list1)\n",
    "    list2 = set(list2)\n",
    "    return {x for x in list1 if x in list2}"
   ]
  },
  {
   "cell_type": "code",
   "execution_count": 153,
   "metadata": {
    "collapsed": true
   },
   "outputs": [],
   "source": [
    "ans1, time1 = measure_time(intersect_lists_1, list1, list2)\n",
    "ans2, time2 = measure_time(intersect_lists_2, list1, list2)"
   ]
  },
  {
   "cell_type": "code",
   "execution_count": 154,
   "metadata": {},
   "outputs": [
    {
     "data": {
      "text/plain": [
       "datetime.timedelta(0, 1, 461876)"
      ]
     },
     "execution_count": 154,
     "metadata": {},
     "output_type": "execute_result"
    }
   ],
   "source": [
    "time1"
   ]
  },
  {
   "cell_type": "code",
   "execution_count": 155,
   "metadata": {},
   "outputs": [
    {
     "data": {
      "text/plain": [
       "datetime.timedelta(0, 0, 1388)"
      ]
     },
     "execution_count": 155,
     "metadata": {},
     "output_type": "execute_result"
    }
   ],
   "source": [
    "time2"
   ]
  },
  {
   "cell_type": "markdown",
   "metadata": {
    "collapsed": true
   },
   "source": [
    "### Quiz Scratch"
   ]
  },
  {
   "cell_type": "code",
   "execution_count": 2,
   "metadata": {
    "collapsed": true
   },
   "outputs": [],
   "source": [
    "import pprint as pp"
   ]
  },
  {
   "cell_type": "code",
   "execution_count": 12,
   "metadata": {},
   "outputs": [
    {
     "name": "stdout",
     "output_type": "stream",
     "text": [
      "{'fifth': 555,\n",
      " 'first': 123,\n",
      " 'fourth': {1: 1,\n",
      "            2: 2},\n",
      " 'second': 456,\n",
      " 'third': {1: 1,\n",
      "           2: 2}}\n"
     ]
    }
   ],
   "source": [
    "a = {'first':123, 'second':456, 'third':{1:1,2:2}, 'fourth': {1:1, 2:2}, 'fifth':555}\n",
    "\n",
    "#print (a)\n",
    "\n",
    "#pprint.pprint(a)\n",
    "\n",
    "pp.pprint(a, width=2)\n"
   ]
  },
  {
   "cell_type": "code",
   "execution_count": null,
   "metadata": {
    "collapsed": true
   },
   "outputs": [],
   "source": []
  }
 ],
 "metadata": {
  "kernelspec": {
   "display_name": "Python 3",
   "language": "python",
   "name": "python3"
  },
  "language_info": {
   "codemirror_mode": {
    "name": "ipython",
    "version": 3
   },
   "file_extension": ".py",
   "mimetype": "text/x-python",
   "name": "python",
   "nbconvert_exporter": "python",
   "pygments_lexer": "ipython3",
   "version": "3.6.2"
  }
 },
 "nbformat": 4,
 "nbformat_minor": 2
}
